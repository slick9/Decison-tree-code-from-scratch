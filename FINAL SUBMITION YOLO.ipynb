{
 "cells": [
  {
   "cell_type": "markdown",
   "metadata": {},
   "source": [
    "### Importing libraries"
   ]
  },
  {
   "cell_type": "code",
   "execution_count": 2,
   "metadata": {},
   "outputs": [],
   "source": [
    "from sklearn import datasets\n",
    "import pandas as pd\n",
    "import numpy as np\n",
    "\n"
   ]
  },
  {
   "cell_type": "markdown",
   "metadata": {},
   "source": [
    "### Loading Data "
   ]
  },
  {
   "cell_type": "code",
   "execution_count": 3,
   "metadata": {},
   "outputs": [],
   "source": [
    "iris = datasets.load_iris()"
   ]
  },
  {
   "cell_type": "code",
   "execution_count": 4,
   "metadata": {},
   "outputs": [],
   "source": [
    "df = pd.DataFrame(iris.data)\n",
    "df.columns = [\"sl\", \"sw\", 'pl', 'pw']"
   ]
  },
  {
   "cell_type": "code",
   "execution_count": 5,
   "metadata": {},
   "outputs": [],
   "source": [
    "y = pd.DataFrame(iris.target)\n",
    "y.columns = [\"label\"]"
   ]
  },
  {
   "cell_type": "code",
   "execution_count": 6,
   "metadata": {},
   "outputs": [
    {
     "data": {
      "text/html": [
       "<div>\n",
       "<style scoped>\n",
       "    .dataframe tbody tr th:only-of-type {\n",
       "        vertical-align: middle;\n",
       "    }\n",
       "\n",
       "    .dataframe tbody tr th {\n",
       "        vertical-align: top;\n",
       "    }\n",
       "\n",
       "    .dataframe thead th {\n",
       "        text-align: right;\n",
       "    }\n",
       "</style>\n",
       "<table border=\"1\" class=\"dataframe\">\n",
       "  <thead>\n",
       "    <tr style=\"text-align: right;\">\n",
       "      <th></th>\n",
       "      <th>sl</th>\n",
       "      <th>sw</th>\n",
       "      <th>pl</th>\n",
       "      <th>pw</th>\n",
       "    </tr>\n",
       "  </thead>\n",
       "  <tbody>\n",
       "    <tr>\n",
       "      <th>0</th>\n",
       "      <td>5.1</td>\n",
       "      <td>3.5</td>\n",
       "      <td>1.4</td>\n",
       "      <td>0.2</td>\n",
       "    </tr>\n",
       "    <tr>\n",
       "      <th>1</th>\n",
       "      <td>4.9</td>\n",
       "      <td>3.0</td>\n",
       "      <td>1.4</td>\n",
       "      <td>0.2</td>\n",
       "    </tr>\n",
       "    <tr>\n",
       "      <th>2</th>\n",
       "      <td>4.7</td>\n",
       "      <td>3.2</td>\n",
       "      <td>1.3</td>\n",
       "      <td>0.2</td>\n",
       "    </tr>\n",
       "    <tr>\n",
       "      <th>3</th>\n",
       "      <td>4.6</td>\n",
       "      <td>3.1</td>\n",
       "      <td>1.5</td>\n",
       "      <td>0.2</td>\n",
       "    </tr>\n",
       "    <tr>\n",
       "      <th>4</th>\n",
       "      <td>5.0</td>\n",
       "      <td>3.6</td>\n",
       "      <td>1.4</td>\n",
       "      <td>0.2</td>\n",
       "    </tr>\n",
       "  </tbody>\n",
       "</table>\n",
       "</div>"
      ],
      "text/plain": [
       "    sl   sw   pl   pw\n",
       "0  5.1  3.5  1.4  0.2\n",
       "1  4.9  3.0  1.4  0.2\n",
       "2  4.7  3.2  1.3  0.2\n",
       "3  4.6  3.1  1.5  0.2\n",
       "4  5.0  3.6  1.4  0.2"
      ]
     },
     "execution_count": 6,
     "metadata": {},
     "output_type": "execute_result"
    }
   ],
   "source": [
    "df.head()"
   ]
  },
  {
   "cell_type": "markdown",
   "metadata": {},
   "source": [
    "## Defining different functions needed"
   ]
  },
  {
   "cell_type": "markdown",
   "metadata": {},
   "source": [
    "### Entropy function"
   ]
  },
  {
   "cell_type": "code",
   "execution_count": 7,
   "metadata": {},
   "outputs": [],
   "source": [
    "#calculating entropy\n",
    "#the y passed here is the y that is particular to that label of that feature\n",
    "\n",
    "def entropy(y):\n",
    "    #gives the set of classes present in the passed y \n",
    "    classes = set(y.values.flatten())\n",
    "    value = 0\n",
    "    # calculating entropy by iterating over for loop\n",
    "    for i in classes:\n",
    "        p = len(y[y[y.columns[0]]==i])/len(y)\n",
    "        value -= (p*(np.log2(p)))\n",
    "    return value\n",
    "    "
   ]
  },
  {
   "cell_type": "markdown",
   "metadata": {},
   "source": [
    "### Calculating Labels"
   ]
  },
  {
   "cell_type": "code",
   "execution_count": 8,
   "metadata": {},
   "outputs": [],
   "source": [
    "#gives us the list of all the possible values on which split can be performed on the feature\n",
    "def labels(df,s_f):\n",
    "    k = set(df[s_f])\n",
    "    k=sorted(k)\n",
    "    l = []\n",
    "    for i in range(len(k)-1):\n",
    "        v =(k[i]+k[i+1])/2\n",
    "        l.append(v)\n",
    "    return l\n"
   ]
  },
  {
   "cell_type": "markdown",
   "metadata": {},
   "source": [
    "### Finding out the gain ratio"
   ]
  },
  {
   "cell_type": "code",
   "execution_count": 9,
   "metadata": {},
   "outputs": [],
   "source": [
    "#defining gain function to calculate gain\n",
    "#s_f = selected_feature\n",
    "def gain_ratio(df,y,s_f):\n",
    "    entropy_before_split = entropy(y)\n",
    "    #initializing\n",
    "    list_gain_ratio = -100000\n",
    "    #setting initial value\n",
    "    value=0\n",
    "    \n",
    "    #iterating over each label to find the label that has max gain ratio\n",
    "    #which is to be selected for the split of feature\n",
    "    for j in labels(df,s_f):\n",
    "        entropy_after_split = 0\n",
    "        split_info = 0\n",
    "        #label_set is the values that new_y_node can take\n",
    "        label_set = [(y[df[s_f]<j]),(y[df[s_f]>=j])]\n",
    "        for i in label_set:\n",
    "            new_y_node = i\n",
    "            weights = len(new_y_node)/len(y)\n",
    "            #putting a check on weights\n",
    "            if weights!=0 :\n",
    "                entropy_after_split += weights*entropy(new_y_node)\n",
    "                split_info -= weights*(np.log(weights))\n",
    "        gain = entropy_before_split - entropy_after_split\n",
    "        gain_ratio = gain/split_info\n",
    "        #condition to get max gain_ratio and corresponding label on which split occured\n",
    "        if gain_ratio>list_gain_ratio :\n",
    "            list_gain_ratio=gain_ratio\n",
    "            value=j\n",
    "\n",
    "    return list_gain_ratio,value"
   ]
  },
  {
   "cell_type": "markdown",
   "metadata": {},
   "source": [
    "## Build Tree Function that prints all the nodes of Decison Tree"
   ]
  },
  {
   "cell_type": "code",
   "execution_count": 11,
   "metadata": {},
   "outputs": [],
   "source": [
    "def build_tree(df, y, unused_features,level):\n",
    "    #base case\n",
    "    # 1. unused is empty\n",
    "    # 2. y contains only one distinct value\n",
    "    if len(unused_features)==0 or set(y.values.flatten())==1:\n",
    "        #printing the level of the tree\n",
    "        print(\"Level \",level)\n",
    "        print('This is leaf node')\n",
    "        # printing the constituents classes\n",
    "        for i in set(y.values.flatten()):\n",
    "            print(f\"the count of class {i} = {len(y[y[y.columns[0]]==i])}\")\n",
    "        #printing entropy\n",
    "        print(\"Current entropy is \",entropy(y) )\n",
    "        print()\n",
    "        return\n",
    "    #defining gain_list and label list \n",
    "    gain_list = []\n",
    "    j1 = []\n",
    "    # iterating over all the features to choose the best feature for split\n",
    "    for f in unused_features:\n",
    "        new_gain,j = gain_ratio(df,y,f)\n",
    "        gain_list.append(new_gain)\n",
    "        j1.append(j)\n",
    "    #selecting the best feature i.e with max gain ratio\n",
    "    # and the corresponding value i.e label of feature on which split is done\n",
    "    s_f = (list(unused_features))[gain_list.index(max(gain_list))]\n",
    "    value = j1[gain_list.index(max(gain_list))]\n",
    "    \n",
    "    \n",
    "    #printing level\n",
    "    print(\"level is\",level)\n",
    "    #printing count of class variables \n",
    "    for i in set(y.values.flatten()):\n",
    "            print(f\"the count of class {i} = {len(y[y[y.columns[0]]==i])}\")\n",
    "    #printing entropy\n",
    "    print(\"Current entropy is \",entropy(y) )\n",
    "    #printing gain ratio and selected feature\n",
    "    print(f\"Splitting on feature {s_f} with gain ratio {max(gain_list)}\")\n",
    "    print()\n",
    "    # removing best feature from unused features\n",
    "    unused_features.remove(s_f)\n",
    "    \n",
    "    # ASSIGNING NEW VALUES TO TRAIN AND TEST DATA\n",
    "    \n",
    "    new_y1 = y[df[s_f]>value]\n",
    "    y1 = new_y1\n",
    "    new_df1 = df[df[s_f]>value]\n",
    "    df1 = new_df1\n",
    "    \n",
    "    \n",
    "    new_y2 = y[df[s_f]<value]\n",
    "    y2 = new_y2\n",
    "    new_df2 = df[df[s_f]<value]\n",
    "    df2 = new_df2\n",
    "    \n",
    "    # CALLING RECURSION 2 TIMES AS IT IS A BINARY SPLIT\n",
    "    build_tree(df1,y1,unused_features,level+1)\n",
    "    build_tree(df2,y2,unused_features,level+1)\n",
    "    \n",
    "    \n",
    "    \n",
    "    "
   ]
  },
  {
   "cell_type": "markdown",
   "metadata": {},
   "source": [
    "# The decison Tree"
   ]
  },
  {
   "cell_type": "code",
   "execution_count": 12,
   "metadata": {},
   "outputs": [
    {
     "name": "stdout",
     "output_type": "stream",
     "text": [
      "level is 0\n",
      "the count of class 0 = 50\n",
      "the count of class 1 = 50\n",
      "the count of class 2 = 50\n",
      "Current entropy is  1.584962500721156\n",
      "Splitting on feature pl with gain ratio 1.4426950408889634\n",
      "\n",
      "level is 1\n",
      "the count of class 1 = 50\n",
      "the count of class 2 = 50\n",
      "Current entropy is  1.0\n",
      "Splitting on feature pw with gain ratio 1.0003139564545946\n",
      "\n",
      "level is 2\n",
      "the count of class 1 = 1\n",
      "the count of class 2 = 45\n",
      "Current entropy is  0.15109697051711368\n",
      "Splitting on feature sl with gain ratio 0.1431777747140423\n",
      "\n",
      "level is 3\n",
      "the count of class 2 = 39\n",
      "Current entropy is  0.0\n",
      "Splitting on feature sw with gain ratio 0.0\n",
      "\n",
      "Level  4\n",
      "This is leaf node\n",
      "the count of class 2 = 37\n",
      "Current entropy is  0.0\n",
      "\n",
      "Level  4\n",
      "This is leaf node\n",
      "the count of class 2 = 2\n",
      "Current entropy is  0.0\n",
      "\n",
      "Level  3\n",
      "This is leaf node\n",
      "the count of class 1 = 1\n",
      "the count of class 2 = 6\n",
      "Current entropy is  0.5916727785823275\n",
      "\n",
      "Level  2\n",
      "This is leaf node\n",
      "the count of class 1 = 49\n",
      "the count of class 2 = 5\n",
      "Current entropy is  0.44506485705083865\n",
      "\n",
      "Level  1\n",
      "This is leaf node\n",
      "the count of class 0 = 50\n",
      "Current entropy is  0.0\n",
      "\n"
     ]
    }
   ],
   "source": [
    "y = pd.DataFrame(iris.target)\n",
    "unused_features = set(df.columns)\n",
    "\n",
    "build_tree(df, y, unused_features,level=0)\n"
   ]
  }
 ],
 "metadata": {
  "kernelspec": {
   "display_name": "Python 3",
   "language": "python",
   "name": "python3"
  },
  "language_info": {
   "codemirror_mode": {
    "name": "ipython",
    "version": 3
   },
   "file_extension": ".py",
   "mimetype": "text/x-python",
   "name": "python",
   "nbconvert_exporter": "python",
   "pygments_lexer": "ipython3",
   "version": "3.7.3"
  }
 },
 "nbformat": 4,
 "nbformat_minor": 2
}
